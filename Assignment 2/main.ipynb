{
 "cells": [
  {
   "cell_type": "code",
   "execution_count": 1,
   "metadata": {},
   "outputs": [],
   "source": [
    "import cv2 as cv\n",
    "import numpy as np\n",
    "\n",
    "image=cv.imread(\"Image_01.bmp\",cv.IMREAD_GRAYSCALE)\n",
    "_, binary_image = cv.threshold(image, 128, 255, cv.THRESH_BINARY)"
   ]
  },
  {
   "cell_type": "code",
   "execution_count": 2,
   "metadata": {},
   "outputs": [],
   "source": [
    "rows=image.shape[0]\n",
    "cols=image.shape[1]\n",
    "\n",
    "current_label=20\n",
    "\n",
    "unique_labels=[]\n",
    "\n"
   ]
  },
  {
   "cell_type": "code",
   "execution_count": 3,
   "metadata": {},
   "outputs": [],
   "source": [
    "for i in range(rows):\n",
    "    for j in range(cols):\n",
    "        if binary_image[i,j]==255:\n",
    "            neighbors = []\n",
    "            if j > 0 and binary_image[i, j - 1] != 0:\n",
    "                neighbors.append(binary_image[i,j-1])\n",
    "                \n",
    "            elif i > 0 and binary_image[i - 1, j] != 0:\n",
    "                neighbors.append(binary_image[i-1,j])\n",
    "                \n",
    "            elif 0<i<rows-1 and 0<j<cols-1 and binary_image[i-1,j+1]!=0:\n",
    "                 neighbors.append(binary_image[i-1,j+1])\n",
    "                 \n",
    "            \n",
    "            if neighbors:\n",
    "                binary_image[i, j] = min(neighbors)\n",
    "               \n",
    "                \n",
    "                # Update other connected components with the minimum label\n",
    "                for neighbor_label in neighbors:\n",
    "                    if neighbor_label != binary_image[i, j]:\n",
    "                        binary_image[binary_image == neighbor_label] = binary_image[i, j]\n",
    "            else:\n",
    "                binary_image[i, j] = current_label\n",
    "                current_label += 1\n"
   ]
  },
  {
   "cell_type": "code",
   "execution_count": 4,
   "metadata": {},
   "outputs": [],
   "source": [
    "for i in range(rows):  \n",
    "    for j in range(cols):\n",
    "        if(binary_image[i,j]>0):\n",
    "            if(j-1>=0 and binary_image[i,j-1]!=0 and binary_image[i,j-1]!=binary_image[i,j]):\n",
    "                binary_image = np.where(binary_image==binary_image[i,j-1], binary_image[i,j],binary_image)\n",
    "               \n",
    "            elif (i-1>=0 and binary_image[i-1,j]!=0 and binary_image[i-1,j]!=binary_image[i,j] ):\n",
    "                binary_image = np.where(binary_image==binary_image[i-1,j], binary_image[i,j],binary_image)\n",
    "                \n",
    "            elif((i+1<rows and j-1>=0) and binary_image[i+1,j-1]!=0 and binary_image[i+1,j-1]!=binary_image[i,j]):\n",
    "                binary_image = np.where(binary_image==binary_image[i+1,j-1], binary_image[i,j],binary_image)\n",
    "               \n",
    "            elif((i-1>=0 and j+1<cols and binary_image[i-1,j+1]!=0 and binary_image[i-1,j+1]!=binary_image[i,j]) ):\n",
    "                binary_image = np.where(binary_image==binary_image[i-1,j+1], binary_image[i,j],binary_image)\n",
    "            \n",
    "            \n",
    "            unique_labels.append(binary_image[i,j])\n",
    "                \n",
    "no_labels=len(unique_labels)"
   ]
  },
  {
   "cell_type": "code",
   "execution_count": 8,
   "metadata": {},
   "outputs": [],
   "source": [
    "colors = np.random.randint(0, 255, size=(no_labels, 3), dtype=np.uint8)\n",
    "\n",
    "# Create a color image to visualize the connected components\n",
    "colored_image = np.zeros((binary_image.shape[0], binary_image.shape[1], 3), dtype=np.uint8)\n",
    "\n",
    "# Assign colors to labeled components\n",
    "for label in range(1, no_labels):\n",
    "    colored_image[binary_image == label] = colors[label]"
   ]
  },
  {
   "cell_type": "code",
   "execution_count": 9,
   "metadata": {},
   "outputs": [],
   "source": [
    "\n",
    "cv.imshow(\"original\",image)\n",
    "cv.waitKey(0)\n",
    "\n",
    "cv.imshow(\"connectivity\",binary_image)\n",
    "cv.waitKey(0)\n",
    "\n",
    "cv.imshow(\"final output\",colored_image)\n",
    "cv.waitKey(0)\n",
    "\n",
    "\n",
    "cv.destroyAllWindows()"
   ]
  }
 ],
 "metadata": {
  "kernelspec": {
   "display_name": "Python 3",
   "language": "python",
   "name": "python3"
  },
  "language_info": {
   "codemirror_mode": {
    "name": "ipython",
    "version": 3
   },
   "file_extension": ".py",
   "mimetype": "text/x-python",
   "name": "python",
   "nbconvert_exporter": "python",
   "pygments_lexer": "ipython3",
   "version": "3.11.5"
  }
 },
 "nbformat": 4,
 "nbformat_minor": 2
}
